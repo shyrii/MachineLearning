{
 "cells": [
  {
   "cell_type": "code",
   "execution_count": 1,
   "metadata": {},
   "outputs": [],
   "source": [
    "import requests\n",
    "r=requests.get('''https://www.csie.ntu.edu.tw/~cjlin/libsvmtools/datasets/regression/housing_scale''')"
   ]
  },
  {
   "cell_type": "code",
   "execution_count": 2,
   "metadata": {},
   "outputs": [],
   "source": [
    "from sklearn.datasets import load_svmlight_file\n",
    "from io import BytesIO\n",
    "x,y=load_svmlight_file(f=BytesIO(r.content),n_features=13)\n",
    "x=x.toarray()"
   ]
  },
  {
   "cell_type": "code",
   "execution_count": 3,
   "metadata": {},
   "outputs": [],
   "source": [
    "import numpy\n",
    "n_samples,n_features=x.shape\n",
    "x=numpy.column_stack((x,numpy.ones((n_samples,1))))\n",
    "y=y.reshape((-1,1))"
   ]
  },
  {
   "cell_type": "code",
   "execution_count": 4,
   "metadata": {},
   "outputs": [],
   "source": [
    "from sklearn.model_selection import train_test_split\n",
    "x_train,x_val,y_train,y_val=train_test_split(x,y,test_size=0.25)"
   ]
  },
  {
   "cell_type": "code",
   "execution_count": 5,
   "metadata": {},
   "outputs": [],
   "source": [
    "penalty_factor=0.5\n",
    "learnint_rate=0.0005\n",
    "max_epoch=300\n",
    "losses_train=[]\n",
    "losses_val=[]"
   ]
  },
  {
   "cell_type": "code",
   "execution_count": 6,
   "metadata": {},
   "outputs": [],
   "source": [
    "w = numpy.zeros((n_features + 1, 1))\n",
    "y_predict=numpy.dot(x_train,w)\n",
    "loss=numpy.average(numpy.abs(y_predict-y_train))"
   ]
  },
  {
   "cell_type": "code",
   "execution_count": 7,
   "metadata": {
    "scrolled": true
   },
   "outputs": [
    {
     "name": "stdout",
     "output_type": "stream",
     "text": [
      "22.731398416886545\n",
      "3.3655656257716524\n",
      "3.0925756691108695\n"
     ]
    }
   ],
   "source": [
    "w=numpy.dot(numpy.dot(numpy.linalg.inv(numpy.dot(x_train.transpose(),x_train)),x_train.transpose()),y_train)\n",
    "y_predict=numpy.dot(x_train,w)\n",
    "loss_train=numpy.average(numpy.abs(y_predict-y_train))\n",
    "y_predict=numpy.dot(x_val,w)\n",
    "loss_val=numpy.average(numpy.abs(y_predict-y_val))\n",
    "\n",
    "print(loss)\n",
    "print(loss_train)\n",
    "print(loss_val)"
   ]
  }
 ],
 "metadata": {
  "kernelspec": {
   "display_name": "Python 3",
   "language": "python",
   "name": "python3"
  },
  "language_info": {
   "codemirror_mode": {
    "name": "ipython",
    "version": 3
   },
   "file_extension": ".py",
   "mimetype": "text/x-python",
   "name": "python",
   "nbconvert_exporter": "python",
   "pygments_lexer": "ipython3",
   "version": "3.7.0"
  }
 },
 "nbformat": 4,
 "nbformat_minor": 2
}
